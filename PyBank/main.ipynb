{
 "cells": [
  {
   "cell_type": "markdown",
   "metadata": {},
   "source": [
    "# Solution 1: Using For Loop"
   ]
  },
  {
   "cell_type": "code",
   "execution_count": 12,
   "metadata": {},
   "outputs": [
    {
     "name": "stdout",
     "output_type": "stream",
     "text": [
      "Financial Analysis\n",
      "----------------------------\n",
      "Total Months: 86\n",
      "Total: $38,382,578\n",
      "Average Change: $446,309.05\n",
      "Greatest Increase in Profits: Feb-2012 ($1,170,593)\n",
      "Greatest Decrease in Profits: Sep-2013 ($-1,196,225)\n"
     ]
    }
   ],
   "source": [
    "# Import the pathlib, csv, and sys library\n",
    "from pathlib import Path\n",
    "import csv\n",
    "import sys\n",
    "\n",
    "# Set the file path\n",
    "csvpath = Path('budget_data.csv')\n",
    "\n",
    "# Initialize line_num variable\n",
    "line_num = 0\n",
    "\n",
    "# Initialize variables\n",
    "total_months = 0\n",
    "total_pnl = 0\n",
    "\n",
    "# Open the input path as a file object\n",
    "with open(csvpath, 'r') as csvfile:\n",
    "\n",
    "    # Pass in the csv file to the csv.reader() function\n",
    "    # (with ',' as the delmiter/separator) and return the csvreader object\n",
    "    csvreader = csv.reader(csvfile, delimiter=',')\n",
    "    \n",
    "    # Go to the next row from the start of the file\n",
    "    # (which is often the first row/header) and iterate line_num by 1\n",
    "    header = next(csvreader)\n",
    "    line_num += 1\n",
    "    \n",
    "    # Read each row of data after the header\n",
    "    for row in csvreader:\n",
    "        # Set the 'Date' and 'Profit/Losses' variables for better\n",
    "        # readability, convert strings to ints for numerical calculations\n",
    "        date = row[0]\n",
    "        pnl = int(row[1])\n",
    "        #The total number of months included in the dataset.\n",
    "        total_months += 1\n",
    "        #The net total amount of Profit/Losses over the entire period.\n",
    "        total_pnl += (int(row[1]))\n",
    "        \n",
    "        #Intialize values with first row of data\n",
    "        if total_months == 1:\n",
    "            greatest_increase = date\n",
    "            greatest_increase_amount = pnl\n",
    "            greatest_decrease = date\n",
    "            greatest_decrease_amount = pnl\n",
    "        \n",
    "        #The greatest increase in profits (date and amount) over the entire period.\n",
    "        if (total_months != 1 and pnl > greatest_increase_amount):\n",
    "            greatest_increase = date\n",
    "            greatest_increase_amount = pnl\n",
    "        \n",
    "        #The greatest decrease in losses (date and amount) over the entire period.    \n",
    "        if (total_months != 1 and pnl < greatest_decrease_amount):\n",
    "            greatest_decrease = date\n",
    "            greatest_decrease_amount = pnl\n",
    "            \n",
    "#The average of the changes in Profit/Losses over the entire period.\n",
    "average_change = total_pnl / total_months\n",
    "average_change_formatted = \"{:,}\".format(round(total_pnl/total_months,2))\n",
    "\n",
    "#Format for easy reading\n",
    "total_pnl_formatted = \"{:,}\".format(total_pnl)\n",
    "greatest_increase_amount_formatted = \"{:,}\".format(greatest_increase_amount)\n",
    "greatest_decrease_amount_formatted = \"{:,}\".format(greatest_decrease_amount)\n",
    "\n",
    "# Does not look good perhaps for loop or function will make this better.\n",
    "# Print results and write to file.\n",
    "original_stdout = sys.stdout # Save a reference to the original standard output\n",
    "with open('results.txt', 'w') as results_file:\n",
    "    print ('Financial Analysis')\n",
    "    sys.stdout = results_file\n",
    "    print ('Financial Analysis')\n",
    "    sys.stdout = original_stdout # Reset the standard output to its original value\n",
    "    print ('----------------------------')\n",
    "    sys.stdout = results_file\n",
    "    print ('----------------------------')\n",
    "    sys.stdout = original_stdout\n",
    "    print (f'Total Months: {total_months}')\n",
    "    sys.stdout = results_file\n",
    "    print (f'Total Months: {total_months}')\n",
    "    sys.stdout = original_stdout\n",
    "    print (f'Total: ${total_pnl_formatted}')\n",
    "    sys.stdout = results_file\n",
    "    print (f'Total: ${total_pnl_formatted}')\n",
    "    sys.stdout = original_stdout\n",
    "    print (f'Average Change: ${average_change_formatted}')\n",
    "    sys.stdout = results_file\n",
    "    print (f'Average Change: ${average_change_formatted}')\n",
    "    sys.stdout = original_stdout\n",
    "    print (f'Greatest Increase in Profits: {greatest_increase} (${greatest_increase_amount_formatted})')\n",
    "    sys.stdout = results_file\n",
    "    print (f'Greatest Increase in Profits: {greatest_increase} (${greatest_increase_amount_formatted})')\n",
    "    sys.stdout = original_stdout\n",
    "    print (f'Greatest Decrease in Profits: {greatest_decrease} (${greatest_decrease_amount_formatted})')\n",
    "    sys.stdout = results_file\n",
    "    print (f'Greatest Decrease in Profits: {greatest_decrease} (${greatest_decrease_amount_formatted})')\n",
    "    sys.stdout = original_stdout"
   ]
  },
  {
   "cell_type": "markdown",
   "metadata": {},
   "source": [
    "# Solution 2: Using Pandas"
   ]
  },
  {
   "cell_type": "code",
   "execution_count": 1,
   "metadata": {},
   "outputs": [
    {
     "name": "stdout",
     "output_type": "stream",
     "text": [
      "Financial Analysis\n",
      "----------------------------\n",
      "Total Months: 86\n",
      "Total: $38,382,578\n",
      "Average Change: $446,309.05\n",
      "Greatest Increase in Profits: Feb-2012 ($1,170,593)\n",
      "Greatest Decrease in Profits: Sep-2013 ($-1,196,225)\n"
     ]
    }
   ],
   "source": [
    "# Import pandas library\n",
    "import pandas as pd\n",
    "\n",
    "## create dataframe, read in csv file by call .read_csv('your_filename') function\n",
    "budget_df = pd.read_csv('budget_data.csv')\n",
    "\n",
    "# Calculate the sum and count\n",
    "total_months = budget_df['Profit/Losses'].count()\n",
    "total_pnl = budget_df['Profit/Losses'].sum()\n",
    "\n",
    "# Calculate the greatest increase and greatest decrease.  Not sure if there is better way of doing this.\n",
    "greatest_increase = budget_df.iloc[budget_df['Profit/Losses'].idxmax()]['Date']\n",
    "greatest_decrease = budget_df.iloc[budget_df['Profit/Losses'].idxmin()]['Date']\n",
    "\n",
    "# Calculate the max, min, and average of the list of salaries\n",
    "greatest_increase_amount = budget_df['Profit/Losses'].max()\n",
    "greatest_decrease_amount = budget_df['Profit/Losses'].min()\n",
    "average_change = budget_df['Profit/Losses'].mean()\n",
    "\n",
    "#Format for easy reading\n",
    "total_pnl_formatted = \"{:,}\".format(total_pnl)\n",
    "average_change_formatted = \"{:,}\".format(round(average_change,2))\n",
    "greatest_increase_amount_formatted = \"{:,}\".format(greatest_increase_amount)\n",
    "greatest_decrease_amount_formatted = \"{:,}\".format(greatest_decrease_amount)\n",
    "\n",
    "# Print results\n",
    "print ('Financial Analysis')\n",
    "print ('----------------------------')\n",
    "print (f'Total Months: {total_months}')\n",
    "print (f'Total: ${total_pnl_formatted}')\n",
    "print (f'Average Change: ${average_change_formatted}')\n",
    "print (f'Greatest Increase in Profits: {greatest_increase} (${greatest_increase_amount_formatted})')\n",
    "print (f'Greatest Decrease in Profits: {greatest_decrease} (${greatest_decrease_amount_formatted})')"
   ]
  },
  {
   "cell_type": "code",
   "execution_count": null,
   "metadata": {},
   "outputs": [],
   "source": []
  }
 ],
 "metadata": {
  "kernelspec": {
   "display_name": "Python 3",
   "language": "python",
   "name": "python3"
  },
  "language_info": {
   "codemirror_mode": {
    "name": "ipython",
    "version": 3
   },
   "file_extension": ".py",
   "mimetype": "text/x-python",
   "name": "python",
   "nbconvert_exporter": "python",
   "pygments_lexer": "ipython3",
   "version": "3.8.5"
  }
 },
 "nbformat": 4,
 "nbformat_minor": 4
}
